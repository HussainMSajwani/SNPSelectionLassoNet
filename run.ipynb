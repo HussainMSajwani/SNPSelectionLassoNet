{
 "cells": [
  {
   "cell_type": "code",
   "execution_count": 1,
   "id": "981cd8cb-467e-47b0-b743-c41ce3859826",
   "metadata": {},
   "outputs": [],
   "source": [
    "N = 50\n",
    "!seq 1 $N > simulation/i\n",
    "!echo \"0.3\\n0.5\\n0.7\" > simulation/h2s\n",
    "!echo \"3000\\n10000\" > simulation/d\n",
    "!echo \"0.3\\n0.5\\n0.7\\n0.95\" > simulation/genvar"
   ]
  },
  {
   "cell_type": "markdown",
   "id": "6ee40731-6e38-4503-9fb1-589372de6b30",
   "metadata": {},
   "source": [
    "### The following requires the reference panel to generate the datasets. Download the reference panel from https://mathgen.stats.ox.ac.uk/impute/data_download_1000G_pilot_plus_hapmap3.html. After uncompressing the reference panel\n",
    "1. move all genetic maps into a directory called \"genetic_maps\"\n",
    "2. remove all files that start with pilot1.jun2010.b36.CEU*\n",
    "3. make a directory called \"data\" and move all *.haps, *.legend, *.samples into it\n",
    "4. rename each pair of haps and legend associated with chromosome N to chrN.haps and chrN.legend\n",
    "5. change the \"ref_panel_dir\" variable to the path containing both the genetic_maps and data directory\n",
    "The command below will generate the genotype, phenotype, and train the models. Adjust the outdir parameter in threshold.sh."
   ]
  },
  {
   "cell_type": "code",
   "execution_count": 2,
   "id": "dc387eb5-4462-47fc-991b-f44cf296389a",
   "metadata": {},
   "outputs": [
    {
     "name": "stdout",
     "output_type": "stream",
     "text": [
      "\n",
      "Computers / CPU cores / Max jobs to run\n",
      "1:local / 12 / 4\n",
      "\n",
      "Computer:jobs running/jobs completed/%of started jobs/Average seconds to complete\n",
      "local:4/0/100%/0.0s ^C\n"
     ]
    }
   ],
   "source": [
    "!cd simulation/; parallel -j 4 --progress --joblog hapmap3ceu22.log -a d -a h2s -a i -a genvar bash threshold.sh"
   ]
  },
  {
   "cell_type": "markdown",
   "id": "bf6bebfa-41b7-4ccb-9851-afaa72ec22bc",
   "metadata": {},
   "source": [
    "### Combine the resultant files into one big file"
   ]
  },
  {
   "cell_type": "code",
   "execution_count": 5,
   "id": "339e0b32-c7be-46bb-9179-160cf4f4b388",
   "metadata": {},
   "outputs": [],
   "source": [
    "ls hapmap3/hapmap3ceu22/chr_22/d_*/genVar_0.*/h2s_0.*/sim_*/n_causals.csv | xargs -n 1 tail -n 8 > final_hapmap3ceu1.csv"
   ]
  },
  {
   "cell_type": "markdown",
   "id": "7547d58f-0f4e-4295-988a-22154093fa38",
   "metadata": {},
   "source": [
    "### Generate tables\n",
    "The tables are generated in the bmc.Rmd fil"
   ]
  }
 ],
 "metadata": {
  "kernelspec": {
   "display_name": "Python 3 (ipykernel)",
   "language": "python",
   "name": "python3"
  },
  "language_info": {
   "codemirror_mode": {
    "name": "ipython",
    "version": 3
   },
   "file_extension": ".py",
   "mimetype": "text/x-python",
   "name": "python",
   "nbconvert_exporter": "python",
   "pygments_lexer": "ipython3",
   "version": "3.7.9"
  }
 },
 "nbformat": 4,
 "nbformat_minor": 5
}
